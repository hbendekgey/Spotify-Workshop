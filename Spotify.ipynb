{
 "cells": [
  {
   "cell_type": "code",
   "execution_count": 1,
   "metadata": {},
   "outputs": [],
   "source": [
    "import sys\n",
    "import spotipy\n",
    "import spotipy.util as util"
   ]
  },
  {
   "cell_type": "code",
   "execution_count": 2,
   "metadata": {},
   "outputs": [],
   "source": [
    "scope = 'user-library-read'\n",
    "\n",
    "username = \"Harry Bendekgey\"\n",
    "\n",
    "token = util.prompt_for_user_token(username, scope, client_id='2465a6686c1b44a8bc541b64f4e36be9',client_secret='8ed97f30589148a0bb537e91ca35dce7',redirect_uri='https://www.spotify.com')"
   ]
  },
  {
   "cell_type": "code",
   "execution_count": 3,
   "metadata": {},
   "outputs": [
    {
     "name": "stdout",
     "output_type": "stream",
     "text": [
      "BQDYXjQnVCidc2e_39pEDpUPgClRaDP0C15h33xWyYnXYxHjJPlwqqcE2CJ_E4DorfnWRxjywtJjIY7O0AMfAXpeHCOhBfxtijE1pqPsAGyVLIq0zmdQagcFQer9FwD0POpoopxG9dHjxXs5a34nVZOmISXA9ql8bjdVjq0I2A\n"
     ]
    }
   ],
   "source": [
    "print(token)"
   ]
  },
  {
   "cell_type": "code",
   "execution_count": 6,
   "metadata": {},
   "outputs": [
    {
     "name": "stdout",
     "output_type": "stream",
     "text": [
      "4vKAjZ6LAZKjvzUYb8nfEq - Adam Fine\n",
      "5ZvDZdNRRJwSc8X6nNs5q1 - The O'My's\n",
      "649o53ULWYN1y7V2OI5kgo - Young the Giant\n",
      "7vPM8YW3HdtthCA3ZjbGGR - Choir\n",
      "4YaNLEPw3MrIgkGOkBrAh2 - ODESZA\n",
      "0FfZudphGgQTGeEV6AhmOs - Yoke Lore\n",
      "2suCvIjriPQrcYHGmWjFh8 - Vallis Alps\n",
      "3xmhECNTS8KZQ7C6ye7JIK - Chet Porter\n",
      "1EYzTlQYP5ihK44ghgDMwA - One11Twenty\n",
      "2g2GkH3vZHk4lWzBjgQ6nY - Sam Cooke\n",
      "6e6Kxot9nHyZ4I8GgmGKII - Sam Cooke\n",
      "1OzY7RRZh3EcIKn7VKZUTx - Toploader\n",
      "2eAtxc1L97UPkxDf4LFtrK - Ripe\n",
      "00aQGaqM6SFzGfbgKOite0 - Tom Misch\n",
      "6FRLCMO5TUHTexlWo8ym1W - Maroon 5\n",
      "2nIDPOUOprhe14XoCK6gxw - Otto Knows\n",
      "3V7IoIHSXCsM4UpyZAqyTt - Minke\n",
      "5vKRk56FvQuEzw0g9Ng8do - Ripe\n",
      "5P6K7YXIDHEwFVc4pzPhlw - Walkabout\n",
      "3Fy2Oy0zXLLz1LWXAe9a0Y - Elena Coats\n",
      "1L3Bgq8Pmzqkbf6FQNBwHB - Sylvan Esso\n",
      "3SbNFFEEKyp1HBSNI8BKQ0 - Rosemary Joaquin\n",
      "38LHpxLutK4xQZMB2Hngh5 - Bart & Baker\n",
      "1LE1Pl0RKdGcsrBfXeq4Qj - Caro Emerald\n",
      "0pZVtUd1ZgkLlewqFay3SC - Napkey\n",
      "67Et9SBNspGJQqCuOCtl6r - Deluxe\n",
      "6LbVnwPp8tL1TVX82dXhEv - Klischée\n",
      "5iaUNTKfrh2YNXum1syEfT - Hoonch\n",
      "4gYOUXGwrShdPUs3g06pH1 - Mike Slap\n",
      "6t4Ua2xbst0sPSomL1TLFh - Napkey\n",
      "7trx783SvnHhKkmgSSTIFJ - Rainbow Kitten Surprise\n",
      "3i1kSF9lmVAvbt4LiPwkx8 - Chelsea Cutler\n",
      "4nE17X9sHIOYw7Dt7sRQHo - NEIKED\n",
      "2DgMxFMUQRPthW4ROhjen1 - BROCKHAMPTON\n",
      "5NxvGCnm7awkD0aoe5mGVr - Jill Baylon\n",
      "3TgPhPv7z0D4pQhH8iKmDW - Chelsea Cutler\n",
      "6Nx6jcKFUyMD1LeTbkIPvB - Magic Bronson\n",
      "5gRCBF8BbbQA4M7wRFjqxg - Melt\n",
      "4FJCtKyh62FUn1XoARF694 - Jane Decker\n",
      "5N3lLgATWiSVoj6qvXFgm8 - Sam Brockington\n",
      "1X55BT9QQ4Dn7KA4CLUuYu - Clubhouse\n",
      "4qUplY9Ubyrgd6xO0AZexF - -ness\n",
      "2JGSYOFs3qNgd4hhvhrkf8 - Islandis\n",
      "1YDZ6LqHW3B9IaAemOo0il - Boxing at the Zoo\n",
      "4Xx0J00u90QvnG3rwz4Itp - Max Frost\n",
      "79hmDK8oZAVNHwpyOQ0Iqj - HARBOUR\n",
      "37uqBNIiYgCuSF0ppMWzVx - Beauvois\n",
      "08K5hNjGGF6lfjOm8i5PCL - Matt and Kim\n",
      "4bCG7rPDYXoVTVmya4zAB0 - Se-Noj\n",
      "4o5RKBXvKFiEcMsMYh3UR1 - Yam Haus\n"
     ]
    }
   ],
   "source": [
    "sp = spotipy.Spotify(auth=token)\n",
    "results = sp.current_user_saved_tracks(limit=50)\n",
    "for item in results['items']:\n",
    "    track = item['track']\n",
    "    print(track['id'] + ' - ' + track['artists'][0]['name'])"
   ]
  },
  {
   "cell_type": "code",
   "execution_count": 94,
   "metadata": {},
   "outputs": [],
   "source": [
    "results = sp.current_user_saved_tracks(offset=20)\n",
    "for item in results['items']:\n",
    "    track = item['track']\n",
    "    print(track['name'] + ' - ' + track['artists'][0]['name'])"
   ]
  },
  {
   "cell_type": "code",
   "execution_count": 96,
   "metadata": {},
   "outputs": [
    {
     "name": "stdout",
     "output_type": "stream",
     "text": [
      "{'href': 'https://api.spotify.com/v1/me/tracks?offset=2000&limit=20', 'items': [], 'limit': 20, 'next': None, 'offset': 2000, 'previous': 'https://api.spotify.com/v1/me/tracks?offset=1980&limit=20', 'total': 619}\n"
     ]
    }
   ],
   "source": []
  },
  {
   "cell_type": "code",
   "execution_count": null,
   "metadata": {},
   "outputs": [],
   "source": []
  }
 ],
 "metadata": {
  "kernelspec": {
   "display_name": "Python 3",
   "language": "python",
   "name": "python3"
  },
  "language_info": {
   "codemirror_mode": {
    "name": "ipython",
    "version": 3
   },
   "file_extension": ".py",
   "mimetype": "text/x-python",
   "name": "python",
   "nbconvert_exporter": "python",
   "pygments_lexer": "ipython3",
   "version": "3.6.5"
  }
 },
 "nbformat": 4,
 "nbformat_minor": 2
}
