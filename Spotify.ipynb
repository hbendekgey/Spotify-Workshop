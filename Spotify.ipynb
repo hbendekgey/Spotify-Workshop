{
 "cells": [
  {
   "cell_type": "code",
   "execution_count": 3,
   "metadata": {},
   "outputs": [],
   "source": [
    "import spotipy\n",
    "import spotipy.util as util\n",
    "import pandas as pd"
   ]
  },
  {
   "cell_type": "code",
   "execution_count": 4,
   "metadata": {},
   "outputs": [],
   "source": [
    "scope = 'user-library-read'\n",
    "username = \"Harry Bendekgey\"\n",
    "cid = '2465a6686c1b44a8bc541b64f4e36be9'\n",
    "csecret = 'redacted'\n",
    "ruri = 'https://www.spotify.com'\n",
    "token = util.prompt_for_user_token(username, scope, client_id=cid,client_secret=csecret,redirect_uri=ruri)"
   ]
  },
  {
   "cell_type": "code",
   "execution_count": 5,
   "metadata": {},
   "outputs": [
    {
     "name": "stdout",
     "output_type": "stream",
     "text": [
      "BQDjJRspFHcyj1-EONdSN_K4yo5fLoog4ah-MXsZT8QwWjhrYQBE3eQkjPKwV9ERliVszcA4gOfT-APyf-lRqgiv_kUlWPlIP2Xqvv-aiWXTVrETW0eyZ45BGYtFQt1GFfPhtHboiEaBATYSVeSFTVuCtPOYDwuCNEGPRVcndQ\n"
     ]
    }
   ],
   "source": [
    "print(token)"
   ]
  },
  {
   "cell_type": "code",
   "execution_count": 6,
   "metadata": {},
   "outputs": [],
   "source": [
    "artists = []\n",
    "songs = []\n",
    "ids = []"
   ]
  },
  {
   "cell_type": "code",
   "execution_count": 7,
   "metadata": {},
   "outputs": [],
   "source": [
    "sp = spotipy.Spotify(auth=token)\n",
    "results = sp.current_user_saved_tracks(limit=50)\n",
    "for item in results['items']:\n",
    "    track = item['track']\n",
    "    ids.append(track['id'])\n",
    "    songs.append(track['name'])\n",
    "    artists.append(track['artists'][0]['name'])"
   ]
  },
  {
   "cell_type": "code",
   "execution_count": 8,
   "metadata": {},
   "outputs": [
    {
     "data": {
      "text/plain": [
       "['My House (feat. Andrea Obeid)',\n",
       " 'The Wonder Years (feat. Chance the Rapper & Nico Segal)',\n",
       " 'Heat of the Summer',\n",
       " 'Across The Room (feat. Leon Bridges)',\n",
       " 'Beige',\n",
       " 'Oceans',\n",
       " 'Stay',\n",
       " 'Last 10 Seconds',\n",
       " '(What A) Wonderful World',\n",
       " 'Nothing Can Change This Love',\n",
       " 'Dancing in the Moonlight - 2001 Remix',\n",
       " 'Pretty Dirty (In the Fading Light)',\n",
       " 'So Close',\n",
       " 'Girls Like You (feat. Cardi B)',\n",
       " 'Million Voices',\n",
       " 'Gold Angel - Zach Nicita Remix',\n",
       " 'Talk to the Moon',\n",
       " 'Onlysmokecigsontheweekend',\n",
       " 'Lowkey',\n",
       " 'Radio - Demo Taped Remix',\n",
       " 'Showered',\n",
       " 'Istanbul (Not Constantinople)',\n",
       " 'Pack Up the Louie (Caravan Palace Remix)',\n",
       " 'Pegasus',\n",
       " 'Extra Mile',\n",
       " 'Bella Ciao',\n",
       " '101',\n",
       " 'Blue Blue Blue',\n",
       " 'Le chat',\n",
       " 'First Class',\n",
       " 'Sleeping With Roses',\n",
       " 'Sand & Lead',\n",
       " 'SWEET',\n",
       " 'You & Me',\n",
       " 'The Reason',\n",
       " 'Wake Up (111th Dream)',\n",
       " 'Sour Candy',\n",
       " \"Stonewallin'\",\n",
       " 'Sea Anemone',\n",
       " 'To the Ocean',\n",
       " 'The Propagandist',\n",
       " 'Home',\n",
       " 'Streetlights',\n",
       " 'Adderall',\n",
       " 'Runaway Kids',\n",
       " 'Daylight',\n",
       " 'Not Alone',\n",
       " 'Feel so Good (feat. Lance Thompson & D4)',\n",
       " 'West Coast',\n",
       " 'Now & Then']"
      ]
     },
     "execution_count": 8,
     "metadata": {},
     "output_type": "execute_result"
    }
   ],
   "source": [
    "songs"
   ]
  },
  {
   "cell_type": "code",
   "execution_count": 9,
   "metadata": {},
   "outputs": [],
   "source": [
    "df = pd.DataFrame(sp.audio_features(ids))"
   ]
  },
  {
   "cell_type": "code",
   "execution_count": 10,
   "metadata": {},
   "outputs": [],
   "source": [
    "offset = 50\n",
    "results = sp.current_user_saved_tracks(limit=50,offset=50)\n",
    "\n",
    "while(len(results['items']) > 0):\n",
    "    ids = []\n",
    "    for item in results['items']:\n",
    "        track = item['track']\n",
    "        ids.append(track['id'])\n",
    "        songs.append(track['name'])\n",
    "        artists.append(track['artists'][0]['name'])\n",
    "    df = df.append(pd.DataFrame(sp.audio_features(ids)), ignore_index=True)\n",
    "    offset = offset + 50\n",
    "    results = sp.current_user_saved_tracks(limit=50,offset=offset)"
   ]
  },
  {
   "cell_type": "code",
   "execution_count": 11,
   "metadata": {},
   "outputs": [],
   "source": [
    "library = df[['acousticness', 'danceability', 'energy','instrumentalness','key','liveness','loudness','mode','speechiness','tempo','valence']].copy()\n",
    "library['song_title'] = songs\n",
    "library['artist'] = artists"
   ]
  },
  {
   "cell_type": "code",
   "execution_count": 12,
   "metadata": {},
   "outputs": [
    {
     "data": {
      "text/html": [
       "<div>\n",
       "<style scoped>\n",
       "    .dataframe tbody tr th:only-of-type {\n",
       "        vertical-align: middle;\n",
       "    }\n",
       "\n",
       "    .dataframe tbody tr th {\n",
       "        vertical-align: top;\n",
       "    }\n",
       "\n",
       "    .dataframe thead th {\n",
       "        text-align: right;\n",
       "    }\n",
       "</style>\n",
       "<table border=\"1\" class=\"dataframe\">\n",
       "  <thead>\n",
       "    <tr style=\"text-align: right;\">\n",
       "      <th></th>\n",
       "      <th>acousticness</th>\n",
       "      <th>danceability</th>\n",
       "      <th>energy</th>\n",
       "      <th>instrumentalness</th>\n",
       "      <th>key</th>\n",
       "      <th>liveness</th>\n",
       "      <th>loudness</th>\n",
       "      <th>mode</th>\n",
       "      <th>speechiness</th>\n",
       "      <th>tempo</th>\n",
       "      <th>valence</th>\n",
       "      <th>song_title</th>\n",
       "      <th>artist</th>\n",
       "    </tr>\n",
       "  </thead>\n",
       "  <tbody>\n",
       "    <tr>\n",
       "      <th>0</th>\n",
       "      <td>0.50800</td>\n",
       "      <td>0.810</td>\n",
       "      <td>0.619</td>\n",
       "      <td>0.000785</td>\n",
       "      <td>1</td>\n",
       "      <td>0.0866</td>\n",
       "      <td>-4.546</td>\n",
       "      <td>0</td>\n",
       "      <td>0.0393</td>\n",
       "      <td>109.951</td>\n",
       "      <td>0.521</td>\n",
       "      <td>My House (feat. Andrea Obeid)</td>\n",
       "      <td>Adam Fine</td>\n",
       "    </tr>\n",
       "    <tr>\n",
       "      <th>1</th>\n",
       "      <td>0.39500</td>\n",
       "      <td>0.621</td>\n",
       "      <td>0.463</td>\n",
       "      <td>0.000005</td>\n",
       "      <td>1</td>\n",
       "      <td>0.1280</td>\n",
       "      <td>-10.259</td>\n",
       "      <td>0</td>\n",
       "      <td>0.2430</td>\n",
       "      <td>70.722</td>\n",
       "      <td>0.491</td>\n",
       "      <td>The Wonder Years (feat. Chance the Rapper &amp; Ni...</td>\n",
       "      <td>The O'My's</td>\n",
       "    </tr>\n",
       "    <tr>\n",
       "      <th>2</th>\n",
       "      <td>0.00515</td>\n",
       "      <td>0.602</td>\n",
       "      <td>0.856</td>\n",
       "      <td>0.000003</td>\n",
       "      <td>7</td>\n",
       "      <td>0.0980</td>\n",
       "      <td>-5.558</td>\n",
       "      <td>1</td>\n",
       "      <td>0.0458</td>\n",
       "      <td>80.021</td>\n",
       "      <td>0.895</td>\n",
       "      <td>Heat of the Summer</td>\n",
       "      <td>Young the Giant</td>\n",
       "    </tr>\n",
       "    <tr>\n",
       "      <th>3</th>\n",
       "      <td>0.01550</td>\n",
       "      <td>0.566</td>\n",
       "      <td>0.587</td>\n",
       "      <td>0.000021</td>\n",
       "      <td>6</td>\n",
       "      <td>0.1110</td>\n",
       "      <td>-5.960</td>\n",
       "      <td>1</td>\n",
       "      <td>0.0308</td>\n",
       "      <td>82.046</td>\n",
       "      <td>0.246</td>\n",
       "      <td>Across The Room (feat. Leon Bridges)</td>\n",
       "      <td>ODESZA</td>\n",
       "    </tr>\n",
       "    <tr>\n",
       "      <th>4</th>\n",
       "      <td>0.38100</td>\n",
       "      <td>0.438</td>\n",
       "      <td>0.677</td>\n",
       "      <td>0.068600</td>\n",
       "      <td>10</td>\n",
       "      <td>0.1190</td>\n",
       "      <td>-7.535</td>\n",
       "      <td>1</td>\n",
       "      <td>0.1350</td>\n",
       "      <td>167.989</td>\n",
       "      <td>0.214</td>\n",
       "      <td>Beige</td>\n",
       "      <td>Yoke Lore</td>\n",
       "    </tr>\n",
       "  </tbody>\n",
       "</table>\n",
       "</div>"
      ],
      "text/plain": [
       "   acousticness  danceability  energy  instrumentalness  key  liveness  \\\n",
       "0       0.50800         0.810   0.619          0.000785    1    0.0866   \n",
       "1       0.39500         0.621   0.463          0.000005    1    0.1280   \n",
       "2       0.00515         0.602   0.856          0.000003    7    0.0980   \n",
       "3       0.01550         0.566   0.587          0.000021    6    0.1110   \n",
       "4       0.38100         0.438   0.677          0.068600   10    0.1190   \n",
       "\n",
       "   loudness  mode  speechiness    tempo  valence  \\\n",
       "0    -4.546     0       0.0393  109.951    0.521   \n",
       "1   -10.259     0       0.2430   70.722    0.491   \n",
       "2    -5.558     1       0.0458   80.021    0.895   \n",
       "3    -5.960     1       0.0308   82.046    0.246   \n",
       "4    -7.535     1       0.1350  167.989    0.214   \n",
       "\n",
       "                                          song_title           artist  \n",
       "0                      My House (feat. Andrea Obeid)        Adam Fine  \n",
       "1  The Wonder Years (feat. Chance the Rapper & Ni...       The O'My's  \n",
       "2                                 Heat of the Summer  Young the Giant  \n",
       "3               Across The Room (feat. Leon Bridges)           ODESZA  \n",
       "4                                              Beige        Yoke Lore  "
      ]
     },
     "execution_count": 12,
     "metadata": {},
     "output_type": "execute_result"
    }
   ],
   "source": [
    "library.head()"
   ]
  },
  {
   "cell_type": "code",
   "execution_count": 13,
   "metadata": {},
   "outputs": [],
   "source": [
    "library.to_csv(\"harry.csv\", index=None)"
   ]
  },
  {
   "cell_type": "code",
   "execution_count": 15,
   "metadata": {},
   "outputs": [
    {
     "data": {
      "text/plain": [
       "<matplotlib.collections.PathCollection at 0x1196766d8>"
      ]
     },
     "execution_count": 15,
     "metadata": {},
     "output_type": "execute_result"
    },
    {
     "data": {
      "image/png": "[encoded data removed]",
      "text/plain": [
       "<Figure size 432x288 with 1 Axes>"
      ]
     },
     "metadata": {},
     "output_type": "display_data"
    }
   ],
   "source": [
    "import matplotlib.pylab as plt\n",
    "x=library['valence']\n",
    "y=library['energy']\n",
    "plt.scatter(x, y,c='black',s=1)"
   ]
  },
  {
   "cell_type": "code",
   "execution_count": null,
   "metadata": {},
   "outputs": [],
   "source": []
  }
 ],
 "metadata": {
  "kernelspec": {
   "display_name": "Python 3",
   "language": "python",
   "name": "python3"
  },
  "language_info": {
   "codemirror_mode": {
    "name": "ipython",
    "version": 3
   },
   "file_extension": ".py",
   "mimetype": "text/x-python",
   "name": "python",
   "nbconvert_exporter": "python",
   "pygments_lexer": "ipython3",
   "version": "3.6.5"
  }
 },
 "nbformat": 4,
 "nbformat_minor": 2
}
